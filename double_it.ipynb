{
  "nbformat": 4,
  "nbformat_minor": 0,
  "metadata": {
    "colab": {
      "provenance": [],
      "authorship_tag": "ABX9TyOzh7tdFSOQlAJJvD4pzkTt",
      "include_colab_link": true
    },
    "kernelspec": {
      "name": "python3",
      "display_name": "Python 3"
    },
    "language_info": {
      "name": "python"
    }
  },
  "cells": [
    {
      "cell_type": "markdown",
      "metadata": {
        "id": "view-in-github",
        "colab_type": "text"
      },
      "source": [
        "<a href=\"https://colab.research.google.com/github/Siddique02/python-basic-projects/blob/main/double_it.ipynb\" target=\"_parent\"><img src=\"https://colab.research.google.com/assets/colab-badge.svg\" alt=\"Open In Colab\"/></a>"
      ]
    },
    {
      "cell_type": "code",
      "execution_count": 8,
      "metadata": {
        "id": "94xee4ten3Dn",
        "colab": {
          "base_uri": "https://localhost:8080/"
        },
        "outputId": "a9a759a9-ec91-42e2-b467-388384e61c7f"
      },
      "outputs": [
        {
          "output_type": "stream",
          "name": "stdout",
          "text": [
            "Write any number: 2\n",
            "4 8 16 32 64 128 "
          ]
        }
      ],
      "source": [
        "\n",
        "def double_it():\n",
        "  user_input = int(input(\"Write any number: \"))\n",
        "  while user_input < 100:\n",
        "    user_input *= 2\n",
        "    print(user_input, end=\" \")\n",
        "\n",
        "double_it()"
      ]
    }
  ]
}