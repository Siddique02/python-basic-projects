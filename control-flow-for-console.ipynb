{
  "nbformat": 4,
  "nbformat_minor": 0,
  "metadata": {
    "colab": {
      "provenance": [],
      "authorship_tag": "ABX9TyPa7tOjHE5DxrNWIrpAy4vq",
      "include_colab_link": true
    },
    "kernelspec": {
      "name": "python3",
      "display_name": "Python 3"
    },
    "language_info": {
      "name": "python"
    }
  },
  "cells": [
    {
      "cell_type": "markdown",
      "metadata": {
        "id": "view-in-github",
        "colab_type": "text"
      },
      "source": [
        "<a href=\"https://colab.research.google.com/github/Siddique02/python-basic-projects/blob/main/control-flow-for-console.ipynb\" target=\"_parent\"><img src=\"https://colab.research.google.com/assets/colab-badge.svg\" alt=\"Open In Colab\"/></a>"
      ]
    },
    {
      "cell_type": "code",
      "execution_count": null,
      "metadata": {
        "colab": {
          "base_uri": "https://localhost:8080/"
        },
        "id": "sRI1zb9zyyz2",
        "outputId": "285585a5-0c4d-4061-aec1-131546a7033f"
      },
      "outputs": [
        {
          "metadata": {
            "tags": null
          },
          "name": "stdout",
          "output_type": "stream",
          "text": [
            "Welcome to the High-Low Game!\n",
            "------------------------------\n",
            "****************************\n",
            "Round 1\n",
            "Your number is 92\n",
            "You were wrong! The computer's number was 14\n",
            "Your score: 0\n",
            "Computer's score: 1\n",
            "****************************\n",
            "Round 2\n",
            "Your number is 63\n"
          ]
        }
      ],
      "source": [
        "import random\n",
        "\n",
        "print(\"Welcome to the High-Low Game!\")\n",
        "print(\"------------------------------\")\n",
        "\n",
        "round_number = 1\n",
        "total_rounds = 5\n",
        "round_over = 0\n",
        "player_score = 0\n",
        "computer_score = 0\n",
        "\n",
        "while total_rounds > round_over:\n",
        "  print(\"****************************\")\n",
        "  print(f\"Round {round_number}\")\n",
        "  round_number += 1\n",
        "  total_rounds -= 1\n",
        "  computers_number = random.randint(1, 101)\n",
        "  players_number = random.randint(1, 101)\n",
        "  print(f\"Your number is {players_number}\")\n",
        "  users_guess: str = str(input(\"Do you think your number is higher or lower than computer's? \"))\n",
        "\n",
        "  if computers_number > players_number:\n",
        "    if users_guess == \"lower\":\n",
        "      print(f\"You were right! The computer's number was {computers_number}\")\n",
        "      player_score += 1\n",
        "    elif users_guess == \"higher\":\n",
        "      print(f\"You were wrong! The computer's number was {computers_number}\")\n",
        "      computer_score += 1\n",
        "  elif computers_number < players_number:\n",
        "    if users_guess == \"higher\":\n",
        "      print(f\"You were right! The computer's number was {computers_number}\")\n",
        "      player_score += 1\n",
        "    elif users_guess == \"lower\":\n",
        "      print(f\"You were wrong! The computer's number was {computers_number}\")\n",
        "      computer_score += 1\n",
        "\n",
        "  print(f\"Your score: {player_score}\")\n",
        "  print(f\"Computer's score: {computer_score}\")\n",
        "\n",
        "print(\"*****************Game Over!*****************\")\n",
        "if(player_score > computer_score):\n",
        "  print(\"*****************You won!*****************\")\n",
        "elif(player_score < computer_score):\n",
        "  print(\"*****************You lost!*****************\")"
      ]
    }
  ]
}