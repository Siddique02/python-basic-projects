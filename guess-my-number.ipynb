{
  "nbformat": 4,
  "nbformat_minor": 0,
  "metadata": {
    "colab": {
      "provenance": [],
      "authorship_tag": "ABX9TyM+jpH1aYYPzEP8yHaZZmTs",
      "include_colab_link": true
    },
    "kernelspec": {
      "name": "python3",
      "display_name": "Python 3"
    },
    "language_info": {
      "name": "python"
    }
  },
  "cells": [
    {
      "cell_type": "markdown",
      "metadata": {
        "id": "view-in-github",
        "colab_type": "text"
      },
      "source": [
        "<a href=\"https://colab.research.google.com/github/Siddique02/python-basic-projects/blob/main/guess-my-number.ipynb\" target=\"_parent\"><img src=\"https://colab.research.google.com/assets/colab-badge.svg\" alt=\"Open In Colab\"/></a>"
      ]
    },
    {
      "cell_type": "code",
      "execution_count": 10,
      "metadata": {
        "colab": {
          "base_uri": "https://localhost:8080/"
        },
        "id": "MtDdOO5ilje6",
        "outputId": "c5f8edc4-b481-4831-9607-0df23c99b772"
      },
      "outputs": [
        {
          "output_type": "stream",
          "name": "stdout",
          "text": [
            "I am generating a number between 0 to 100\n",
            "Please enter your guess: 50\n",
            "Alowed attempts 6\n",
            "Your guess is too low!\n",
            "Please enter your guess: 70\n",
            "Alowed attempts 5\n",
            "Your guess is too high!\n",
            "Please enter your guess: 60\n",
            "Alowed attempts 4\n",
            "Your guess is too high!\n",
            "Please enter your guess: 55\n",
            "Alowed attempts 3\n",
            "Your guess is too low!\n",
            "Please enter your guess: 58\n",
            "Alowed attempts 2\n",
            "Your guess is too high!\n",
            "Please enter your guess: 57\n",
            "Alowed attempts 1\n",
            "Your guess is too high!\n",
            "Please enter your guess: 56\n",
            "Alowed attempts 0\n",
            "You guessed the number correctly!\n",
            "The number was 56\n"
          ]
        }
      ],
      "source": [
        "import random\n",
        "\n",
        "def main():\n",
        "  random_number: int = random.randint(1, 99)\n",
        "  print(\"I am generating a number between 0 to 100\")\n",
        "\n",
        "\n",
        "  allowed_attempts: int = 7\n",
        "  user_attempts: int = 0\n",
        "\n",
        "  while True:\n",
        "\n",
        "    user_input: int = int(input(\"Please enter your guess: \"))\n",
        "    allowed_attempts -= 1\n",
        "    print(\"Allowed attempts\", allowed_attempts)\n",
        "\n",
        "    if user_input == random_number:\n",
        "      print(\"Congradulations! You guessed the number correctly!\")\n",
        "      break\n",
        "    elif user_input > random_number:\n",
        "      print(\"Your guess is too high!\")\n",
        "    elif user_input < random_number:\n",
        "      print(\"Your guess is too low!\")\n",
        "\n",
        "    if allowed_attempts == 0:\n",
        "      print(\"You ran out of attempts!\")\n",
        "      break\n",
        "\n",
        "  print(\"The number was\", random_number)\n",
        "\n",
        "main()"
      ]
    }
  ]
}